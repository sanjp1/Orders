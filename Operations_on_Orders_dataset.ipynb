{
 "cells": [
  {
   "cell_type": "code",
   "execution_count": 1,
   "metadata": {},
   "outputs": [],
   "source": [
    "#Name: Sanjana Pradhan\n",
    "#email id: sanjp1@umbc.edu\n",
    "\n",
    "import pandas as pd\n",
    "import numpy as np\n",
    "import os\n",
    "import matplotlib.pyplot as ml"
   ]
  },
  {
   "cell_type": "code",
   "execution_count": 2,
   "metadata": {},
   "outputs": [
    {
     "data": {
      "text/html": [
       "<div>\n",
       "<style scoped>\n",
       "    .dataframe tbody tr th:only-of-type {\n",
       "        vertical-align: middle;\n",
       "    }\n",
       "\n",
       "    .dataframe tbody tr th {\n",
       "        vertical-align: top;\n",
       "    }\n",
       "\n",
       "    .dataframe thead th {\n",
       "        text-align: right;\n",
       "    }\n",
       "</style>\n",
       "<table border=\"1\" class=\"dataframe\">\n",
       "  <thead>\n",
       "    <tr style=\"text-align: right;\">\n",
       "      <th></th>\n",
       "      <th>customer_id</th>\n",
       "      <th>gender</th>\n",
       "      <th>most_recent_order_date</th>\n",
       "      <th>order_count</th>\n",
       "    </tr>\n",
       "  </thead>\n",
       "  <tbody>\n",
       "    <tr>\n",
       "      <th>0</th>\n",
       "      <td>1000</td>\n",
       "      <td>0</td>\n",
       "      <td>2017-01-01 00:11:31</td>\n",
       "      <td>1</td>\n",
       "    </tr>\n",
       "    <tr>\n",
       "      <th>1</th>\n",
       "      <td>1001</td>\n",
       "      <td>0</td>\n",
       "      <td>2017-01-01 00:29:56</td>\n",
       "      <td>1</td>\n",
       "    </tr>\n",
       "    <tr>\n",
       "      <th>2</th>\n",
       "      <td>1002</td>\n",
       "      <td>1</td>\n",
       "      <td>2017-02-19 21:35:31</td>\n",
       "      <td>3</td>\n",
       "    </tr>\n",
       "    <tr>\n",
       "      <th>3</th>\n",
       "      <td>1003</td>\n",
       "      <td>1</td>\n",
       "      <td>2017-04-26 02:37:20</td>\n",
       "      <td>4</td>\n",
       "    </tr>\n",
       "    <tr>\n",
       "      <th>4</th>\n",
       "      <td>1004</td>\n",
       "      <td>0</td>\n",
       "      <td>2017-01-01 03:11:54</td>\n",
       "      <td>1</td>\n",
       "    </tr>\n",
       "    <tr>\n",
       "      <th>5</th>\n",
       "      <td>1005</td>\n",
       "      <td>1</td>\n",
       "      <td>2017-12-16 01:39:27</td>\n",
       "      <td>2</td>\n",
       "    </tr>\n",
       "    <tr>\n",
       "      <th>6</th>\n",
       "      <td>1006</td>\n",
       "      <td>1</td>\n",
       "      <td>2017-05-09 15:27:20</td>\n",
       "      <td>3</td>\n",
       "    </tr>\n",
       "    <tr>\n",
       "      <th>7</th>\n",
       "      <td>1007</td>\n",
       "      <td>0</td>\n",
       "      <td>2017-01-01 15:59:50</td>\n",
       "      <td>1</td>\n",
       "    </tr>\n",
       "    <tr>\n",
       "      <th>8</th>\n",
       "      <td>1008</td>\n",
       "      <td>0</td>\n",
       "      <td>2017-12-17 05:47:48</td>\n",
       "      <td>3</td>\n",
       "    </tr>\n",
       "    <tr>\n",
       "      <th>9</th>\n",
       "      <td>1009</td>\n",
       "      <td>1</td>\n",
       "      <td>2017-01-01 19:27:17</td>\n",
       "      <td>1</td>\n",
       "    </tr>\n",
       "  </tbody>\n",
       "</table>\n",
       "</div>"
      ],
      "text/plain": [
       "   customer_id  gender most_recent_order_date  order_count\n",
       "0         1000       0    2017-01-01 00:11:31            1\n",
       "1         1001       0    2017-01-01 00:29:56            1\n",
       "2         1002       1    2017-02-19 21:35:31            3\n",
       "3         1003       1    2017-04-26 02:37:20            4\n",
       "4         1004       0    2017-01-01 03:11:54            1\n",
       "5         1005       1    2017-12-16 01:39:27            2\n",
       "6         1006       1    2017-05-09 15:27:20            3\n",
       "7         1007       0    2017-01-01 15:59:50            1\n",
       "8         1008       0    2017-12-17 05:47:48            3\n",
       "9         1009       1    2017-01-01 19:27:17            1"
      ]
     },
     "execution_count": 2,
     "metadata": {},
     "output_type": "execute_result"
    }
   ],
   "source": [
    "# A) Assemble a dataframe with one row per customer and the following columns:\n",
    "#     * customer_id\n",
    "#     * gender\n",
    "#     * most_recent_order_date\n",
    "#     * order_count (number of orders placed by this customer)\n",
    "#    Sort the dataframe by customer_id ascending and display the first 10 rows.\n",
    "\n",
    "# For this question since there was no column describing the number of orders, I made an assumption that the \n",
    "# occurence of a specific customer_id would represent the number of times that customer made a purchase. I used the\n",
    "# count of customer_id to count the number of orders.\n",
    "\n",
    "\n",
    "df = pd.read_csv(r\"C:\\Users\\SANJANA\\Downloads\\orders_v201810.csv\")\n",
    "df.head(10)\n",
    "cols = [1,2,3,4,5,6]\n",
    "df1 = df[[\"customer_id\",\"gender\"]]\n",
    "order_date = df.groupby('customer_id').max()['date']\n",
    "order_date.head(10)\n",
    "df2 = pd.DataFrame(data=order_date)\n",
    "df2.head(10)\n",
    "df3 = pd.merge(df1, df2, on='customer_id', how='left')\n",
    "df3['order_count'] = df3.groupby('customer_id')['customer_id'].transform('count')\n",
    "df3.head(10)\n",
    "df4 = df3.rename(columns=({'date':'most_recent_order_date'}))\n",
    "df4.head(10)"
   ]
  },
  {
   "cell_type": "code",
   "execution_count": 3,
   "metadata": {},
   "outputs": [
    {
     "data": {
      "image/png": "[encoded data removed]",
      "text/plain": [
       "<Figure size 864x576 with 1 Axes>"
      ]
     },
     "metadata": {
      "needs_background": "light"
     },
     "output_type": "display_data"
    }
   ],
   "source": [
    "#B) Plot the count of orders per week.\n",
    "\n",
    "# For this question I used the \"date\" column, converted it to weeks and \"order_count\" column obtained in the previous \n",
    "# question.\n",
    "\n",
    "df4 = df3.loc[:, [\"order_count\"]]\n",
    "df4[\"week_no\"] = pd.to_datetime(df[\"date\"]).dt.week\n",
    "df5 = (\n",
    "    df4\n",
    "    .groupby(\"week_no\")\n",
    "    .sum()\n",
    "    .reset_index()\n",
    ")\n",
    "ml.rcParams['figure.figsize'] = [12, 8]\n",
    "fig = df5.plot.bar(x=\"week_no\", y=\"order_count\")\n",
    "fig.set_title('Count of orders per week')\n",
    "fig.set_xlabel('No. of weeks')\n",
    "fig.set_ylabel('Count of orders')\n",
    "ml.show()"
   ]
  },
  {
   "cell_type": "code",
   "execution_count": 4,
   "metadata": {},
   "outputs": [
    {
     "name": "stdout",
     "output_type": "stream",
     "text": [
      "363.89000591803506\n",
      "350.70836114422\n"
     ]
    }
   ],
   "source": [
    "#C) Compute the mean order value for gender 0 and for gender 1. Do you think the difference is significant?\n",
    "\n",
    "#The difference between mean value for gender 0 and gender 1 is 13.89 USD approximately which is not very significant.\n",
    "\n",
    "gender0 = df['gender'] != 1\n",
    "mean_for_gender_0 = df.loc[gender0, 'value'].mean()\n",
    "\n",
    "gender1 = df['gender'] != 0\n",
    "mean_for_gender_1 = df.loc[gender1, 'value'].mean()\n",
    "\n",
    "print (mean_for_gender_0)\n",
    "print (mean_for_gender_1)"
   ]
  },
  {
   "cell_type": "code",
   "execution_count": 5,
   "metadata": {},
   "outputs": [
    {
     "data": {
      "text/plain": [
       "array([[3349, 3410],\n",
       "       [1463, 5249]], dtype=int64)"
      ]
     },
     "execution_count": 5,
     "metadata": {},
     "output_type": "execute_result"
    }
   ],
   "source": [
    "#D) Assuming a single gender prediction was made for each customer, generate a confusion matrix for predicted gender. \n",
    "#What does the confusion matrix tell you about the quality of the predictions?\n",
    "\n",
    "# In the confusion matrix given below, for predictor variable gender 0, TP is 3349, FP is 3410, FN is 1463, TN is 5249.\n",
    "# Error rate is 0.36 which can be reduced.(0 being the best error rate)\n",
    "# Accuracy is 0.63 which still can be improved.\n",
    "# So the overall quality of predictions can still be improved.\n",
    "\n",
    "from sklearn.metrics import confusion_matrix\n",
    "y_true = df['gender']\n",
    "y_pred = df['predicted_gender']\n",
    "confusion_matrix(y_true, y_pred)"
   ]
  },
  {
   "cell_type": "code",
   "execution_count": 6,
   "metadata": {},
   "outputs": [],
   "source": [
    "#E) Describe one of your favorite tools or techniques and give a small example of how it's helped you solve a problem. \n",
    "# Limit your answer to one paragraph."
   ]
  },
  {
   "cell_type": "code",
   "execution_count": 7,
   "metadata": {},
   "outputs": [],
   "source": [
    "#There are several tools and techniques to address real-time problems in the domain of Data Science. \n",
    "#I would love to talk about a Classification technique that I used to make predictions and inferences \n",
    "#about community health. I obtained a dataset from Centers for Disease Control and Prevention for the \n",
    "#year 2015 providing key health indicators (e.g., obesity, heart disease, cancer) of local communities \n",
    "#for all 3142 counties of US.I applied several Data Preprocessing techniques. The case in interest I decided \n",
    "#to explore was “leading causes of Death”. I picked up Cancer, and I was interested in finding underlying \n",
    "#patterns and attributes that might directly or indirectly relate to high or low value for predictor variable \n",
    "#“Cancer” at a county-level. I applied Bayesian Network classification technique to the dataset, since Probabilistic \n",
    "#graphical models (PGM) are helpful in capturing conditional and causal dependencies unlike Naïve Bayesian. \n",
    "#The dataset was split into training data (66%) and test data (34%). The learning model was built in WEKA using \n",
    "#BayesNet classifier. The model could correctly classify the instances with an accuracy of 93.45%. The model \n",
    "#captured a direct correlation between Obesity, High blood pressure and smoker attributes with respect to Cancer \n",
    "#variable. I could infer that these attributes are positively correlated. I could make inferences that these findings \n",
    "#supports my hypothesis which stated prevalence or absence of certain demographic, social, economic and/or \n",
    "#accessibility factors attribute to a particular kind of death in a certain county. I found out that certain \n",
    "#demographic factors attribute to high level of Cancer in a county."
   ]
  }
 ],
 "metadata": {
  "kernelspec": {
   "display_name": "Python 3",
   "language": "python",
   "name": "python3"
  },
  "language_info": {
   "codemirror_mode": {
    "name": "ipython",
    "version": 3
   },
   "file_extension": ".py",
   "mimetype": "text/x-python",
   "name": "python",
   "nbconvert_exporter": "python",
   "pygments_lexer": "ipython3",
   "version": "3.7.1"
  }
 },
 "nbformat": 4,
 "nbformat_minor": 2
}
